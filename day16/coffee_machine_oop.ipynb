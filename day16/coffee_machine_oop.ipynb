{
 "cells": [
  {
   "cell_type": "code",
   "execution_count": 33,
   "id": "76e715b6",
   "metadata": {},
   "outputs": [],
   "source": [
    "def coffee_maker_machine():\n",
    "    \"\"\"This is the coffee machine that helps us run the coffee dispenser.\"\"\"\n",
    "    from money_machine import MoneyMachine\n",
    "    from coffeemaker import CoffeeMaker\n",
    "    from menu_item import Menu, MenuItem\n",
    "\n",
    "    coffee_maker = CoffeeMaker()\n",
    "    menu = Menu()\n",
    "    money_machine = MoneyMachine()\n",
    "\n",
    "\n",
    "    do_we_have_enough_resources = True\n",
    "    while do_we_have_enough_resources:\n",
    "        action = input(\"click on 'Report' to get the resources or click on 'Order' to order a drink. \")\n",
    "        while action not in [\"Report\", \"Order\", \"off\"]:\n",
    "            print(\"the chosen action is not suported, please choose either Report or Drink\")\n",
    "            action = input(\"click on 'Report' to get the resources or click on 'Order' to order a drink.\")\n",
    "        if action == \"Report\":\n",
    "            coffee_maker.report()\n",
    "            money_machine.report()\n",
    "        if action == \"off\":\n",
    "            do_we_have_enough_resources = False\n",
    "        else:\n",
    "            drink_type = input(\"What would you like? (espresso/ latte/ cappuccino)\")\n",
    "            while drink_type not in menu.get_items().split(\"/\")[0:3]:\n",
    "                menu.find_drink(drink_type)\n",
    "                print(f\"We only have the following drinks {menu.get_items().split('/')[0:3]}\")\n",
    "                drink_type = input(\"What would you like? (espresso/ latte/ cappuccino)\")\n",
    "            else:\n",
    "                if coffee_maker.is_resource_sufficient(menu.find_drink(drink_type)) and              \\\n",
    "                money_machine.make_payment(menu.find_drink(drink_type).cost):\n",
    "                    coffee_maker.make_coffee(menu.find_drink(drink_type))"
   ]
  },
  {
   "cell_type": "code",
   "execution_count": 35,
   "id": "852b6430",
   "metadata": {
    "scrolled": true
   },
   "outputs": [
    {
     "name": "stdout",
     "output_type": "stream",
     "text": [
      "click on 'Report' to get the resources or click on 'Order' to order a drink. Order\n",
      "What would you like? (espresso/ latte/ cappuccino)latte\n",
      "Please insert coins.\n",
      "How many quarters?: 20\n",
      "How many dimes?: 20\n",
      "How many nickles?: 20\n",
      "How many pennies?: 10\n",
      "Here is $5.6 in change.\n",
      "Here is your latte ☕️. Enjoy!\n",
      "click on 'Report' to get the resources or click on 'Order' to order a drink. Order\n",
      "What would you like? (espresso/ latte/ cappuccino)cappuccino\n",
      "Sorry there is not enough water.\n",
      "click on 'Report' to get the resources or click on 'Order' to order a drink. Order\n",
      "What would you like? (espresso/ latte/ cappuccino)latte\n",
      "Sorry there is not enough water.\n",
      "Sorry there is not enough milk.\n",
      "click on 'Report' to get the resources or click on 'Order' to order a drink. Report\n",
      "Water: 100ml\n",
      "Milk: 50ml\n",
      "Coffee: 76g\n",
      "Money: $2.5\n",
      "What would you like? (espresso/ latte/ cappuccino)espresso\n",
      "Please insert coins.\n",
      "How many quarters?: 20\n",
      "How many dimes?: 20\n",
      "How many nickles?: 20\n",
      "How many pennies?: 10\n",
      "Here is $6.6 in change.\n",
      "Here is your espresso ☕️. Enjoy!\n",
      "click on 'Report' to get the resources or click on 'Order' to order a drink. Report\n",
      "Water: 50ml\n",
      "Milk: 50ml\n",
      "Coffee: 58g\n",
      "Money: $4.0\n",
      "What would you like? (espresso/ latte/ cappuccino)espresso\n",
      "Please insert coins.\n",
      "How many quarters?: 20\n",
      "How many dimes?: 10\n",
      "How many nickles?: 20\n",
      "How many pennies?: 20\n",
      "Here is $5.7 in change.\n",
      "Here is your espresso ☕️. Enjoy!\n",
      "click on 'Report' to get the resources or click on 'Order' to order a drink. Report\n",
      "Water: 0ml\n",
      "Milk: 50ml\n",
      "Coffee: 40g\n",
      "Money: $5.5\n",
      "What would you like? (espresso/ latte/ cappuccino)off\n",
      "Sorry that item is not available.\n",
      "We only have the following drinks ['latte', 'espresso', 'cappuccino']\n",
      "What would you like? (espresso/ latte/ cappuccino)lattee\n",
      "Sorry that item is not available.\n",
      "We only have the following drinks ['latte', 'espresso', 'cappuccino']\n",
      "What would you like? (espresso/ latte/ cappuccino)latte\n",
      "Sorry there is not enough water.\n",
      "Sorry there is not enough milk.\n",
      "click on 'Report' to get the resources or click on 'Order' to order a drink. off\n"
     ]
    }
   ],
   "source": [
    "coffee_maker_machine()"
   ]
  },
  {
   "cell_type": "code",
   "execution_count": null,
   "id": "37747149",
   "metadata": {},
   "outputs": [],
   "source": []
  }
 ],
 "metadata": {
  "kernelspec": {
   "display_name": "Python 3 (ipykernel)",
   "language": "python",
   "name": "python3"
  },
  "language_info": {
   "codemirror_mode": {
    "name": "ipython",
    "version": 3
   },
   "file_extension": ".py",
   "mimetype": "text/x-python",
   "name": "python",
   "nbconvert_exporter": "python",
   "pygments_lexer": "ipython3",
   "version": "3.10.9"
  }
 },
 "nbformat": 4,
 "nbformat_minor": 5
}
