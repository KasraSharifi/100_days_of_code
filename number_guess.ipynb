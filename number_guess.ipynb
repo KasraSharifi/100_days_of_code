{
 "cells": [
  {
   "cell_type": "code",
   "execution_count": 5,
   "id": "481fcef4",
   "metadata": {},
   "outputs": [],
   "source": [
    "def guide_the_user(value_to_be_guessed, user_guess):\n",
    "    \"\"\"Helps us get closer to the value to be guessed\"\"\"\n",
    "    if value_to_be_guessed == user_guess:\n",
    "        return(\"You got it\")\n",
    "    elif value_to_be_guessed < user_guess:\n",
    "        return(\"too high\")\n",
    "    elif value_to_be_guessed > user_guess:\n",
    "        return(\"too low\")"
   ]
  },
  {
   "cell_type": "code",
   "execution_count": 9,
   "id": "b004ed5b",
   "metadata": {},
   "outputs": [
    {
     "name": "stdout",
     "output_type": "stream",
     "text": [
      "Welcome to the number guessing game\n",
      "I am thinking about a number between 1 and 100\n",
      "Choose a difficulty. Type 'easy' or 'hard': easy\n",
      "You have 10 remaining to guess the number\n",
      "make a guess: 50\n",
      "too high\n",
      "You have 9 remaining to guess the number\n",
      "make a guess: 25\n",
      "too low\n",
      "You have 8 remaining to guess the number\n",
      "make a guess: 40\n",
      "too low\n",
      "You have 7 remaining to guess the number\n",
      "make a guess: 45\n",
      "too high\n",
      "You have 6 remaining to guess the number\n",
      "make a guess: 44\n",
      "too high\n",
      "You have 5 remaining to guess the number\n",
      "make a guess: 43\n",
      "too high\n",
      "You have 4 remaining to guess the number\n",
      "make a guess: 42\n",
      "too high\n",
      "You have 3 remaining to guess the number\n",
      "make a guess: 41\n",
      "You got it\n",
      "congrats\n",
      "the number to be guessed was 41\n"
     ]
    }
   ],
   "source": [
    "import random\n",
    "\n",
    "\n",
    "print(\"Welcome to the number guessing game\")\n",
    "print(\"I am thinking about a number between 1 and 100\")\n",
    "value_to_be_guessed = random.choice(list(range(1,101)))\n",
    "\n",
    "difficulty_level = input(\"Choose a difficulty. Type 'easy' or 'hard': \")\n",
    "\n",
    "if difficulty_level not in [\"hard\", \"easy\"]:\n",
    "    raise Exception (\"The difficulty level is not chosen properly\")\n",
    "\n",
    "if difficulty_level == \"hard\":\n",
    "    number_of_attempts = 5\n",
    "elif difficulty_level == \"easy\":\n",
    "    number_of_attempts = 10\n",
    "    \n",
    "while number_of_attempts > 0: \n",
    "    print(f\"You have {number_of_attempts} remaining to guess the number\")\n",
    "    user_guess = int(input(\"make a guess: \"))\n",
    "    \n",
    "    guess_outcome = guide_the_user(value_to_be_guessed, user_guess)\n",
    "    print(guess_outcome)\n",
    "    if guess_outcome == \"You got it\":\n",
    "        print(\"congrats\")\n",
    "        number_of_attempts = 0\n",
    "    else:\n",
    "        number_of_attempts -= 1\n",
    "\n",
    "if number_of_attempts == 0:\n",
    "    print(f\"the number to be guessed was {value_to_be_guessed}\")"
   ]
  },
  {
   "cell_type": "code",
   "execution_count": null,
   "id": "5df1ed1e",
   "metadata": {},
   "outputs": [],
   "source": []
  }
 ],
 "metadata": {
  "kernelspec": {
   "display_name": "Python 3 (ipykernel)",
   "language": "python",
   "name": "python3"
  },
  "language_info": {
   "codemirror_mode": {
    "name": "ipython",
    "version": 3
   },
   "file_extension": ".py",
   "mimetype": "text/x-python",
   "name": "python",
   "nbconvert_exporter": "python",
   "pygments_lexer": "ipython3",
   "version": "3.10.9"
  }
 },
 "nbformat": 4,
 "nbformat_minor": 5
}
