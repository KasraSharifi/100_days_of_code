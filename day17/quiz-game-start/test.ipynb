{
 "cells": [
  {
   "cell_type": "code",
   "execution_count": 1,
   "id": "c3863172",
   "metadata": {},
   "outputs": [],
   "source": [
    "from main import *"
   ]
  },
  {
   "cell_type": "code",
   "execution_count": 2,
   "id": "724bcd61",
   "metadata": {},
   "outputs": [
    {
     "name": "stdout",
     "output_type": "stream",
     "text": [
      "Q.1: A slug's blood is green. True/False f\n",
      "The answer was wrong\n",
      "12\n",
      "1\n",
      "Q.2: The loudest animal is the African Elephant. True/False f\n",
      "The answer was wrong\n",
      "12\n",
      "2\n",
      "Q.3: Approximately one quarter of human bones are in the feet. True/False f\n",
      "The answer was wrong\n",
      "12\n",
      "3\n",
      "Q.4: The total surface area of a human lungs is the size of a football pitch. True/False f\n",
      "The answer was wrong\n",
      "12\n",
      "4\n",
      "Q.5: In West Virginia, USA, if you accidentally hit an animal with your car, you are free to take it home to eat. True/False f\n",
      "The answer was wrong\n",
      "12\n",
      "5\n",
      "Q.6: In London, UK, if you happen to die in the House of Parliament, you are entitled to a state funeral. True/False f\n",
      "The answer was wrong\n",
      "12\n",
      "6\n",
      "Q.7: It is illegal to pee in the Ocean in Portugal. True/False f\n",
      "The answer was wrong\n",
      "12\n",
      "7\n",
      "Q.8: You can lead a cow down stairs but not up stairs. True/False f\n",
      "The answer was wrong\n",
      "12\n",
      "8\n",
      "Q.9: Google was originally called 'Backrub'. True/False f\n",
      "The answer was wrong\n",
      "12\n",
      "9\n",
      "Q.10: Buzz Aldrin's mother's maiden name was 'Moon'. True/False f\n",
      "The answer was wrong\n",
      "12\n",
      "10\n",
      "Q.11: No piece of square dry paper can be folded in half more than 7 times. True/False f\n",
      "The answer was wrong\n",
      "12\n",
      "11\n",
      "Q.12: A few ounces of chocolate can to kill a small dog. True/False f\n",
      "The answer was wrong\n",
      "12\n",
      "12\n",
      "We have no more questions to ask\n"
     ]
    }
   ],
   "source": [
    "quiz_1 = QuizBrain(question_bank)\n",
    "quiz_1.nex_question()"
   ]
  },
  {
   "cell_type": "code",
   "execution_count": 4,
   "id": "eb8a4a04",
   "metadata": {},
   "outputs": [
    {
     "data": {
      "text/plain": [
       "12"
      ]
     },
     "execution_count": 4,
     "metadata": {},
     "output_type": "execute_result"
    }
   ],
   "source": [
    "len(question_data)"
   ]
  },
  {
   "cell_type": "code",
   "execution_count": null,
   "id": "6caa0a6b",
   "metadata": {},
   "outputs": [],
   "source": []
  }
 ],
 "metadata": {
  "kernelspec": {
   "display_name": "Python 3 (ipykernel)",
   "language": "python",
   "name": "python3"
  },
  "language_info": {
   "codemirror_mode": {
    "name": "ipython",
    "version": 3
   },
   "file_extension": ".py",
   "mimetype": "text/x-python",
   "name": "python",
   "nbconvert_exporter": "python",
   "pygments_lexer": "ipython3",
   "version": "3.10.9"
  }
 },
 "nbformat": 4,
 "nbformat_minor": 5
}
