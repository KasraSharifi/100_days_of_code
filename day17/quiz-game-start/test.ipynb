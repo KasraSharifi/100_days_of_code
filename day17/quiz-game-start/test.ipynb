{
 "cells": [
  {
   "cell_type": "code",
   "execution_count": 1,
   "id": "c3863172",
   "metadata": {},
   "outputs": [],
   "source": [
    "from main import *"
   ]
  },
  {
   "cell_type": "code",
   "execution_count": 2,
   "id": "724bcd61",
   "metadata": {},
   "outputs": [
    {
     "name": "stdout",
     "output_type": "stream",
     "text": [
      "Q.1: A slug's blood is green. True/False f\n",
      "The answer is wrong\n",
      "Your score is 0 / 1\n",
      "the right answer to the question A slug's blood is green. is true and your answer was f\n",
      "\n",
      "\n",
      "Q.2: The loudest animal is the African Elephant. True/False f\n",
      "The answer is wrong\n",
      "Your score is 0 / 2\n",
      "the right answer to the question The loudest animal is the African Elephant. is false and your answer was f\n",
      "\n",
      "\n",
      "Q.3: Approximately one quarter of human bones are in the feet. True/False f\n",
      "The answer is wrong\n",
      "Your score is 0 / 3\n",
      "the right answer to the question Approximately one quarter of human bones are in the feet. is true and your answer was f\n",
      "\n",
      "\n",
      "Q.4: The total surface area of a human lungs is the size of a football pitch. True/False f\n",
      "The answer is wrong\n",
      "Your score is 0 / 4\n",
      "the right answer to the question The total surface area of a human lungs is the size of a football pitch. is true and your answer was f\n",
      "\n",
      "\n",
      "Q.5: In West Virginia, USA, if you accidentally hit an animal with your car, you are free to take it home to eat. True/False f\n",
      "The answer is wrong\n",
      "Your score is 0 / 5\n",
      "the right answer to the question In West Virginia, USA, if you accidentally hit an animal with your car, you are free to take it home to eat. is true and your answer was f\n",
      "\n",
      "\n",
      "Q.6: In London, UK, if you happen to die in the House of Parliament, you are entitled to a state funeral. True/False f\n",
      "The answer is wrong\n",
      "Your score is 0 / 6\n",
      "the right answer to the question In London, UK, if you happen to die in the House of Parliament, you are entitled to a state funeral. is false and your answer was f\n",
      "\n",
      "\n",
      "Q.7: It is illegal to pee in the Ocean in Portugal. True/False f\n",
      "The answer is wrong\n",
      "Your score is 0 / 7\n",
      "the right answer to the question It is illegal to pee in the Ocean in Portugal. is true and your answer was f\n",
      "\n",
      "\n",
      "Q.8: You can lead a cow down stairs but not up stairs. True/False f\n",
      "The answer is wrong\n",
      "Your score is 0 / 8\n",
      "the right answer to the question You can lead a cow down stairs but not up stairs. is false and your answer was f\n",
      "\n",
      "\n",
      "Q.9: Google was originally called 'Backrub'. True/False f\n",
      "The answer is wrong\n",
      "Your score is 0 / 9\n",
      "the right answer to the question Google was originally called 'Backrub'. is true and your answer was f\n",
      "\n",
      "\n",
      "Q.10: Buzz Aldrin's mother's maiden name was 'Moon'. True/False ff\n",
      "The answer is wrong\n",
      "Your score is 0 / 10\n",
      "the right answer to the question Buzz Aldrin's mother's maiden name was 'Moon'. is true and your answer was ff\n",
      "\n",
      "\n",
      "Q.11: No piece of square dry paper can be folded in half more than 7 times. True/False \n",
      "The answer is wrong\n",
      "Your score is 0 / 11\n",
      "the right answer to the question No piece of square dry paper can be folded in half more than 7 times. is false and your answer was \n",
      "\n",
      "\n",
      "Q.12: A few ounces of chocolate can to kill a small dog. True/False f\n",
      "The answer is wrong\n",
      "Your score is 0 / 12\n",
      "the right answer to the question A few ounces of chocolate can to kill a small dog. is true and your answer was f\n",
      "\n",
      "\n",
      "============================================================\n",
      "You have completed the quiz!!\n",
      "Your final score is 0 / 12\n",
      "============================================================\n"
     ]
    }
   ],
   "source": [
    "quiz_1 = QuizBrain(question_bank)\n",
    "quiz_1.nex_question()"
   ]
  }
 ],
 "metadata": {
  "kernelspec": {
   "display_name": "Python 3 (ipykernel)",
   "language": "python",
   "name": "python3"
  },
  "language_info": {
   "codemirror_mode": {
    "name": "ipython",
    "version": 3
   },
   "file_extension": ".py",
   "mimetype": "text/x-python",
   "name": "python",
   "nbconvert_exporter": "python",
   "pygments_lexer": "ipython3",
   "version": "3.10.9"
  }
 },
 "nbformat": 4,
 "nbformat_minor": 5
}
