{
 "cells": [
  {
   "cell_type": "code",
   "execution_count": 1,
   "id": "992fdbf5",
   "metadata": {},
   "outputs": [],
   "source": [
    "class User():\n",
    "    pass\n",
    "\n",
    "\n",
    "user_1 = User()\n",
    "user_1.id = \"001\"\n",
    "user_1.user_name = \"Kasra\""
   ]
  },
  {
   "cell_type": "code",
   "execution_count": 3,
   "id": "916c79ec",
   "metadata": {},
   "outputs": [
    {
     "data": {
      "text/plain": [
       "'Kasra'"
      ]
     },
     "execution_count": 3,
     "metadata": {},
     "output_type": "execute_result"
    }
   ],
   "source": [
    "user_1.user_name"
   ]
  },
  {
   "cell_type": "code",
   "execution_count": 1,
   "id": "53e0c725",
   "metadata": {},
   "outputs": [],
   "source": [
    "class User():\n",
    "    \n",
    "    def __init__(self, user_id, user_name):\n",
    "        self.id = user_id \n",
    "        self.user_name = user_name\n",
    "        self.followers = 0\n",
    "        self.following = 0\n",
    "        \n",
    "    def follow_a_user(self, user):\n",
    "        self.following += 1\n",
    "        user.followers += 1"
   ]
  },
  {
   "cell_type": "code",
   "execution_count": 3,
   "id": "f3eaf8e9",
   "metadata": {},
   "outputs": [
    {
     "data": {
      "text/plain": [
       "'001'"
      ]
     },
     "execution_count": 3,
     "metadata": {},
     "output_type": "execute_result"
    }
   ],
   "source": [
    "user_1 = User(\"001\", \"Kasra\")\n",
    "user_1.id"
   ]
  },
  {
   "cell_type": "code",
   "execution_count": 4,
   "id": "6b10cf01",
   "metadata": {},
   "outputs": [
    {
     "data": {
      "text/plain": [
       "'002'"
      ]
     },
     "execution_count": 4,
     "metadata": {},
     "output_type": "execute_result"
    }
   ],
   "source": [
    "user_2 = User(\"002\", \"Kaveh\")\n",
    "user_2.id"
   ]
  },
  {
   "cell_type": "code",
   "execution_count": 5,
   "id": "180c8b5e",
   "metadata": {},
   "outputs": [],
   "source": [
    "user_1.follow_a_user(user_2)"
   ]
  },
  {
   "cell_type": "code",
   "execution_count": 6,
   "id": "2d3f2f7c",
   "metadata": {},
   "outputs": [
    {
     "data": {
      "text/plain": [
       "1"
      ]
     },
     "execution_count": 6,
     "metadata": {},
     "output_type": "execute_result"
    }
   ],
   "source": [
    "user_2.followers"
   ]
  },
  {
   "cell_type": "code",
   "execution_count": 7,
   "id": "e25977ef",
   "metadata": {},
   "outputs": [
    {
     "data": {
      "text/plain": [
       "0"
      ]
     },
     "execution_count": 7,
     "metadata": {},
     "output_type": "execute_result"
    }
   ],
   "source": [
    "user_2.following"
   ]
  },
  {
   "cell_type": "code",
   "execution_count": 13,
   "id": "0e61fdde",
   "metadata": {},
   "outputs": [
    {
     "data": {
      "text/plain": [
       "10"
      ]
     },
     "execution_count": 13,
     "metadata": {},
     "output_type": "execute_result"
    }
   ],
   "source": [
    "user_2.following = 10\n",
    "user_2.following"
   ]
  },
  {
   "cell_type": "code",
   "execution_count": null,
   "id": "3c611e8f",
   "metadata": {},
   "outputs": [],
   "source": []
  }
 ],
 "metadata": {
  "kernelspec": {
   "display_name": "Python 3 (ipykernel)",
   "language": "python",
   "name": "python3"
  },
  "language_info": {
   "codemirror_mode": {
    "name": "ipython",
    "version": 3
   },
   "file_extension": ".py",
   "mimetype": "text/x-python",
   "name": "python",
   "nbconvert_exporter": "python",
   "pygments_lexer": "ipython3",
   "version": "3.10.9"
  }
 },
 "nbformat": 4,
 "nbformat_minor": 5
}
